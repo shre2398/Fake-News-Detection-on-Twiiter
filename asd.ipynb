{
 "cells": [
  {
   "cell_type": "code",
   "execution_count": 21,
   "metadata": {},
   "outputs": [
    {
     "name": "stdout",
     "output_type": "stream",
     "text": [
      "[1 1 0 ... 0 1 1]\n"
     ]
    }
   ],
   "source": [
    "import pandas as pd\n",
    "import matplotlib.pyplot as plt\n",
    "from sklearn.cross_validation import train_test_split\n",
    "#import sklearn\n",
    "from sklearn.feature_extraction.text import TfidfVectorizer,CountVectorizer\n",
    "from sklearn.naive_bayes import MultinomialNB\n",
    "import numpy as np\n",
    "from sklearn.metrics import accuracy_score\n",
    "from sklearn.metrics import confusion_matrix\n",
    "import itertools\n",
    "from textblob import TextBlob\n",
    "import csv\n",
    "df = pd.read_csv(\"/home/shubhu/testing/newfinal.csv\")\n",
    "#ds = df.sample(frac=1)\n",
    "#ds.to_csv('/home/shubhu/testing/newfinal.csv')\n",
    "#print(df.head())\n",
    "y = df.label \n",
    "print(y.values)\n",
    "# Drop the `label` column\n",
    "df = df.drop(\"label\", axis=1)\n",
    "\n",
    "X_train, X_test, y_train, y_test = train_test_split(df, y, test_size=0.33, random_state=53)\n",
    "X_train.to_csv('/home/shubhu/testing/training.csv')\n",
    "y_train.to_csv('/home/shubhu/testing/trainlabels.csv')\n",
    "X_test.to_csv('/home/shubhu/testing/testing.csv')\n",
    "y_test.to_csv('/home/shubhu/testing/testlabels.csv')"
   ]
  },
  {
   "cell_type": "code",
   "execution_count": 30,
   "metadata": {},
   "outputs": [
    {
     "name": "stdout",
     "output_type": "stream",
     "text": [
      "hi1\n"
     ]
    }
   ],
   "source": [
    "count = 0\n",
    "abc = [] #list for tfidf\n",
    "all =[] #list for adding features in csv\n",
    "\n",
    "df = pd.read_csv(\"/home/shubhu/testing/training.csv\")\n",
    "\n",
    "while (count < len(df.index)):\n",
    "     v = df['text'].values[count].strip(\"b'\")\n",
    "     #print(v)#cleaned text\n",
    "     abc.append(v)\n",
    "     analysis = TextBlob(v)\n",
    "     \n",
    "     ratio = df['friends_count'].values[count]/df['followers_count'].values[count]\n",
    "     #print(ratio)\n",
    "     if df['verified'].values[count]:\n",
    "        w = 1\n",
    "     else:\n",
    "        w = 0\n",
    "        \n",
    "     x = analysis.sentiment.polarity\n",
    "     if x< 0:\n",
    "            senti = 0\n",
    "            x =x*(-1)\n",
    "     elif x > 0:\n",
    "            senti = 1\n",
    "     else :\n",
    "            senti = 2\n",
    "\n",
    "     all.append([senti,x,analysis.sentiment.subjectivity,len(v),v.count('#'),ratio,\n",
    "                 df['statuses_count'].values[count],w])\n",
    "     count = count + 1\n",
    "\n",
    "with open('/home/shubhu/testing/trainfeatures.csv', 'w') as f:\n",
    "    writer = csv.writer(f)\n",
    "    writer.writerow([\"senti\",\"polarity\",\"subjectivity\",\"tweet_length\",\"No.of#\",\"ratio\",\"statuses_count\",\"verified\"])\n",
    "    writer.writerows(all)\n",
    "\n",
    "    \n",
    "#TFIDF feature\n",
    "#tfidf_vectorizer = TfidfVectorizer(stop_words='english', max_df=0.7) \n",
    "\n",
    "# Fit and transform the training data \n",
    "\n",
    "\n",
    "    \n",
    "print(\"hi1\")\n",
    "#type( df['friends_count'].values[0])       \n"
   ]
  },
  {
   "cell_type": "code",
   "execution_count": 31,
   "metadata": {},
   "outputs": [
    {
     "name": "stdout",
     "output_type": "stream",
     "text": [
      "hi2\n"
     ]
    }
   ],
   "source": [
    "count = 0\n",
    "xyz = [] #list for tfidf\n",
    "all =[] #list for adding features in csv\n",
    "\n",
    "df = pd.read_csv(\"/home/shubhu/testing/testing.csv\")\n",
    "\n",
    "while (count < len(df.index)):\n",
    "     v = df['text'].values[count].strip(\"b'\")\n",
    "     #print(v)#cleaned text\n",
    "     xyz.append(v)\n",
    "     analysis = TextBlob(v)\n",
    "     #print(analysis.sentiment.polarity)#polarity and subjectivity feature\n",
    "     #print(len(v))#length of text\n",
    "     #print(v.count('#'))#No. of \"#\"\n",
    "     ratio = df['friends_count'].values[count]/df['followers_count'].values[count]\n",
    "     #print(ratio)\n",
    "     if df['verified'].values[count]:\n",
    "        w = 1\n",
    "     else :\n",
    "        w = 0\n",
    "     #print(w)\n",
    "     x = analysis.sentiment.polarity\n",
    "     if x< 0:\n",
    "            senti = 0\n",
    "            x =x*(-1)\n",
    "     elif x > 0:\n",
    "            senti = 1\n",
    "     else :\n",
    "            senti = 2\n",
    "     \n",
    "     all.append([senti,x,analysis.sentiment.subjectivity,len(v),v.count('#'),ratio,\n",
    "                 df['statuses_count'].values[count],w])\n",
    "     count = count + 1\n",
    "\n",
    "with open('/home/shubhu/testing/testfeatures.csv', 'w') as f:\n",
    "    writer = csv.writer(f)\n",
    "    writer.writerow([\"senti\",\"polarity\",\"subjectivity\",\"tweet_length\",\"No.of#\",\"ratio\",\"statuses_count\",\"verified\"])\n",
    "    writer.writerows(all)\n",
    "    #print(all)\n",
    "\n",
    "tfidf_vectorizer = TfidfVectorizer(stop_words='english', max_df=0.7) \n",
    "tfidf_train = tfidf_vectorizer.fit_transform(abc) \n",
    "# Fit and transform the training data \n",
    "tfidf_test = tfidf_vectorizer.transform(xyz) \n",
    "\n",
    "print(\"hi2\")   \n",
    "#type( df['followers_count'].values[0])"
   ]
  },
  {
   "cell_type": "code",
   "execution_count": 39,
   "metadata": {},
   "outputs": [
    {
     "name": "stdout",
     "output_type": "stream",
     "text": [
      "hi3\n"
     ]
    }
   ],
   "source": [
    "\n",
    "clf = MultinomialNB()\n",
    "\n",
    "clf.fit(tfidf_train,y_train)\n",
    "print(\"hi3\")"
   ]
  },
  {
   "cell_type": "code",
   "execution_count": 40,
   "metadata": {},
   "outputs": [
    {
     "name": "stdout",
     "output_type": "stream",
     "text": [
      "accuracy:   0.835\n"
     ]
    }
   ],
   "source": [
    "pred = clf.predict(tfidf_test)\n",
    "score = accuracy_score(y_test, pred)\n",
    "print(\"accuracy:   %0.3f\" % score)\n",
    "\n"
   ]
  },
  {
   "cell_type": "code",
   "execution_count": 41,
   "metadata": {},
   "outputs": [
    {
     "name": "stdout",
     "output_type": "stream",
     "text": [
      "hi3\n"
     ]
    }
   ],
   "source": [
    "dftrain = pd.read_csv('/home/shubhu/testing/trainfeatures.csv')\n",
    "dftest = pd.read_csv('/home/shubhu/testing/testfeatures.csv')\n",
    "\n",
    "dftrain = dftrain.values # to convert df to nd array\n",
    "clf = MultinomialNB()\n",
    "\n",
    "clf.fit(dftrain,y_train)\n",
    "print(\"hi3\")"
   ]
  },
  {
   "cell_type": "code",
   "execution_count": 42,
   "metadata": {},
   "outputs": [
    {
     "name": "stdout",
     "output_type": "stream",
     "text": [
      "accuracy:   0.619\n"
     ]
    }
   ],
   "source": [
    "pred = clf.predict(dftest)\n",
    "score = accuracy_score(y_test, pred)\n",
    "print(\"accuracy:   %0.3f\" % score)\n"
   ]
  },
  {
   "cell_type": "code",
   "execution_count": null,
   "metadata": {
    "collapsed": true
   },
   "outputs": [],
   "source": [
    "#SVM\n",
    "from sklearn import svm\n",
    "clf = svm.SVC(kernel='linear') # Linear Kernel\n",
    "\n",
    "#Train the model using the training sets\n",
    "clf.fit(dftrain, y_train)\n",
    "\n",
    "#Predict the response for test dataset\n",
    "y_pred = clf.predict(dftest)"
   ]
  },
  {
   "cell_type": "code",
   "execution_count": null,
   "metadata": {
    "collapsed": true
   },
   "outputs": [],
   "source": [
    "from sklearn import metrics\n",
    "\n",
    "# Model Accuracy: how often is the classifier correct?\n",
    "print(\"Accuracy:\",metrics.accuracy_score(y_test, y_pred))"
   ]
  },
  {
   "cell_type": "code",
   "execution_count": null,
   "metadata": {
    "collapsed": true
   },
   "outputs": [],
   "source": []
  }
 ],
 "metadata": {
  "kernelspec": {
   "display_name": "Python 3",
   "language": "python",
   "name": "python3"
  },
  "language_info": {
   "codemirror_mode": {
    "name": "ipython",
    "version": 3
   },
   "file_extension": ".py",
   "mimetype": "text/x-python",
   "name": "python",
   "nbconvert_exporter": "python",
   "pygments_lexer": "ipython3",
   "version": "3.6.3"
  }
 },
 "nbformat": 4,
 "nbformat_minor": 2
}
